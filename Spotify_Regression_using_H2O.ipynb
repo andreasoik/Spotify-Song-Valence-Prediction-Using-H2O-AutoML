{
  "nbformat": 4,
  "nbformat_minor": 0,
  "metadata": {
    "colab": {
      "provenance": []
    },
    "kernelspec": {
      "name": "python3",
      "display_name": "Python 3"
    },
    "language_info": {
      "name": "python"
    }
  },
  "cells": [
    {
      "cell_type": "code",
      "execution_count": null,
      "metadata": {
        "collapsed": true,
        "id": "CjuPxzS1Ek8E"
      },
      "outputs": [],
      "source": [
        "from google.colab import files\n",
        "files.upload()"
      ]
    },
    {
      "cell_type": "markdown",
      "source": [
        "### Install Packages"
      ],
      "metadata": {
        "id": "MIdEJXzDFGJ7"
      }
    },
    {
      "cell_type": "code",
      "source": [
        "!apt-get install default-jre\n",
        "!java -version\n",
        "!pip install h2o"
      ],
      "metadata": {
        "id": "5G61agsXFBcT"
      },
      "execution_count": null,
      "outputs": []
    },
    {
      "cell_type": "markdown",
      "source": [
        "### Import Libraries & Initialize H2O"
      ],
      "metadata": {
        "id": "c2K7WCYIIq1s"
      }
    },
    {
      "cell_type": "code",
      "source": [
        "import pandas as pd\n",
        "import h2o\n",
        "from h2o.automl import H2OAutoML,get_leaderboard\n",
        "import warnings\n",
        "warnings.filterwarnings('ignore')\n",
        "\n",
        "h2o.init()"
      ],
      "metadata": {
        "collapsed": true,
        "id": "SjM00Iy3FyfD"
      },
      "execution_count": null,
      "outputs": []
    },
    {
      "cell_type": "markdown",
      "source": [
        "### Data Preperation\n",
        "* Import Data\n",
        "* Convert Data to H2O frame\n",
        "* Split Data to Train & Test  "
      ],
      "metadata": {
        "id": "ymTqkgvaJGQE"
      }
    },
    {
      "cell_type": "code",
      "source": [
        "df=pd.read_csv('/content/tracks.csv')\n",
        "x=list(df.columns)\n",
        "y='valence'\n",
        "x.remove(y)\n",
        "df=h2o.H2OFrame(df)\n",
        "train,test=df.split_frame([0.7], seed=42)\n",
        "print(\"train:%d test:%d\" % (train.nrows, test.nrows))"
      ],
      "metadata": {
        "colab": {
          "base_uri": "https://localhost:8080/"
        },
        "id": "5-3AmyD_GMOK",
        "outputId": "7bb59c0a-54dc-4370-d866-e7399dd85829"
      },
      "execution_count": 20,
      "outputs": [
        {
          "output_type": "stream",
          "name": "stdout",
          "text": [
            "Parse progress: |████████████████████████████████████████████████████████████████| (done) 100%\n",
            "train:191722 test:81878\n"
          ]
        }
      ]
    },
    {
      "cell_type": "markdown",
      "source": [
        "### AutoML Implementation"
      ],
      "metadata": {
        "id": "kOPJesHcKqZc"
      }
    },
    {
      "cell_type": "code",
      "source": [
        "#prerequisites\n",
        "aml=H2OAutoML(sort_metric='MSE',max_runtime_secs=60*60,max_runtime_secs_per_model=10*60,\n",
        "              exclude_algos=['StackedEnsemble'],stopping_metric='MAE',stopping_tolerance=5e-3,seed=42)\n",
        "\n",
        "#fit models\n",
        "aml.train(x=x, y=y, training_frame=train)"
      ],
      "metadata": {
        "colab": {
          "base_uri": "https://localhost:8080/",
          "height": 1000
        },
        "id": "rO74zp5gFFTz",
        "outputId": "e211bf75-faf9-461f-ed41-1aa242df072f"
      },
      "execution_count": 37,
      "outputs": [
        {
          "output_type": "stream",
          "name": "stdout",
          "text": [
            "AutoML progress: |███████████████████████████████████████████████████████████████| (done) 100%\n"
          ]
        },
        {
          "output_type": "execute_result",
          "data": {
            "text/plain": [
              "Model Details\n",
              "=============\n",
              "H2OXGBoostEstimator : XGBoost\n",
              "Model Key: XGBoost_1_AutoML_5_20241011_124634\n",
              "\n",
              "\n",
              "Model Summary: \n",
              "    number_of_trees\n",
              "--  -----------------\n",
              "    89\n",
              "\n",
              "ModelMetricsRegression: xgboost\n",
              "** Reported on train data. **\n",
              "\n",
              "MSE: 0.0001284868849925897\n",
              "RMSE: 0.011335205555815462\n",
              "MAE: 0.0026045122874260827\n",
              "RMSLE: 0.007945876397051204\n",
              "Mean Residual Deviance: 0.0001284868849925897\n",
              "\n",
              "ModelMetricsRegression: xgboost\n",
              "** Reported on cross-validation data. **\n",
              "\n",
              "MSE: 0.0008718165625753009\n",
              "RMSE: 0.029526539969581617\n",
              "MAE: 0.005817935547311027\n",
              "RMSLE: 0.02016466354074659\n",
              "Mean Residual Deviance: 0.0008718165625753009\n",
              "\n",
              "Cross-Validation Metrics Summary: \n",
              "                        mean         sd           cv_1_valid    cv_2_valid    cv_3_valid    cv_4_valid    cv_5_valid\n",
              "----------------------  -----------  -----------  ------------  ------------  ------------  ------------  ------------\n",
              "aic                     nan          0            nan           nan           nan           nan           nan\n",
              "loglikelihood           nan          0            nan           nan           nan           nan           nan\n",
              "mae                     0.00581793   0.000507655  0.00612898    0.00562752    0.00621537    0.00610921    0.00500859\n",
              "mean_residual_deviance  0.000871817  7.23874e-05  0.000930467   0.000776412   0.000940265   0.000896158   0.000815781\n",
              "mse                     0.000871817  7.23874e-05  0.000930467   0.000776412   0.000940265   0.000896158   0.000815781\n",
              "r2                      0.981022     0.00163615   0.979772      0.983257      0.979512      0.980354      0.982215\n",
              "residual_deviance       0.000871817  7.23874e-05  0.000930467   0.000776412   0.000940265   0.000896158   0.000815781\n",
              "rmse                    0.0295059    0.00123565   0.0305036     0.0278642     0.0306638     0.0299359     0.0285619\n",
              "rmsle                   0.0201512    0.000823697  0.0207726     0.019109      0.0209163     0.0205253     0.0194327\n",
              "\n",
              "Scoring History: \n",
              "    timestamp            duration          number_of_trees    training_rmse    training_mae    training_deviance\n",
              "--  -------------------  ----------------  -----------------  ---------------  --------------  -------------------\n",
              "    2024-10-11 12:55:03  8 min 28.340 sec  0                  0.214366         0.178066        0.0459528\n",
              "    2024-10-11 12:55:05  8 min 30.894 sec  5                  0.0633951        0.0467176       0.00401894\n",
              "    2024-10-11 12:55:09  8 min 34.884 sec  10                 0.0352548        0.0182153       0.0012429\n",
              "    2024-10-11 12:55:11  8 min 37.148 sec  15                 0.0275211        0.0110084       0.000757413\n",
              "    2024-10-11 12:55:14  8 min 39.490 sec  20                 0.0250253        0.00908248      0.000626267\n",
              "    2024-10-11 12:55:16  8 min 42.012 sec  25                 0.0228602        0.00772128      0.000522588\n",
              "    2024-10-11 12:55:20  8 min 45.646 sec  30                 0.021459         0.00692317      0.000460488\n",
              "    2024-10-11 12:55:24  8 min 49.354 sec  35                 0.0202235        0.00621688      0.000408989\n",
              "    2024-10-11 12:55:27  8 min 52.317 sec  40                 0.0190368        0.0055888       0.0003624\n",
              "    2024-10-11 12:55:30  8 min 55.437 sec  45                 0.0179283        0.00512356      0.000321424\n",
              "    2024-10-11 12:55:34  8 min 59.978 sec  50                 0.0171335        0.00476148      0.000293555\n",
              "    2024-10-11 12:55:38  9 min  4.197 sec  55                 0.0163721        0.00442774      0.000268047\n",
              "    2024-10-11 12:55:43  9 min  9.088 sec  60                 0.015545         0.00408905      0.000241648\n",
              "    2024-10-11 12:55:49  9 min 14.476 sec  65                 0.0145003        0.00370181      0.000210258\n",
              "    2024-10-11 12:55:55  9 min 21.224 sec  70                 0.0137569        0.00344173      0.000189253\n",
              "    2024-10-11 12:56:00  9 min 25.402 sec  75                 0.0132376        0.00324017      0.000175234\n",
              "    2024-10-11 12:56:06  9 min 31.619 sec  80                 0.0125438        0.00300105      0.000157346\n",
              "    2024-10-11 12:56:11  9 min 36.326 sec  85                 0.0117602        0.00275281      0.000138302\n",
              "    2024-10-11 12:56:16  9 min 42.150 sec  89                 0.0113352        0.00260451      0.000128487\n",
              "\n",
              "Variable Importances: \n",
              "variable          relative_importance    scaled_importance    percentage\n",
              "----------------  ---------------------  -------------------  ------------\n",
              "danceability      1982.09                1                    0.188715\n",
              "energy            1552.3                 0.783163             0.147795\n",
              "duration_ms       1208.31                0.609616             0.115044\n",
              "speechiness       1152.49                0.581452             0.109729\n",
              "tempo             1079.43                0.544593             0.102773\n",
              "acousticness      971.624                0.490202             0.0925087\n",
              "loudness          922.885                0.465612             0.0878682\n",
              "liveness          694.98                 0.35063              0.0661692\n",
              "instrumentalness  531.704                0.268254             0.0506237\n",
              "key               303.999                0.153373             0.0289438\n",
              "mode              103.25                 0.0520913            0.00983042\n",
              "\n",
              "[tips]\n",
              "Use `model.explain()` to inspect the model.\n",
              "--\n",
              "Use `h2o.display.toggle_user_tips()` to switch on/off this section."
            ],
            "text/html": [
              "<pre style='margin: 1em 0 1em 0;'>Model Details\n",
              "=============\n",
              "H2OXGBoostEstimator : XGBoost\n",
              "Model Key: XGBoost_1_AutoML_5_20241011_124634\n",
              "</pre>\n",
              "<div style='margin: 1em 0 1em 0;'>\n",
              "<style>\n",
              "\n",
              "#h2o-table-8.h2o-container {\n",
              "  overflow-x: auto;\n",
              "}\n",
              "#h2o-table-8 .h2o-table {\n",
              "  /* width: 100%; */\n",
              "  margin-top: 1em;\n",
              "  margin-bottom: 1em;\n",
              "}\n",
              "#h2o-table-8 .h2o-table caption {\n",
              "  white-space: nowrap;\n",
              "  caption-side: top;\n",
              "  text-align: left;\n",
              "  /* margin-left: 1em; */\n",
              "  margin: 0;\n",
              "  font-size: larger;\n",
              "}\n",
              "#h2o-table-8 .h2o-table thead {\n",
              "  white-space: nowrap; \n",
              "  position: sticky;\n",
              "  top: 0;\n",
              "  box-shadow: 0 -1px inset;\n",
              "}\n",
              "#h2o-table-8 .h2o-table tbody {\n",
              "  overflow: auto;\n",
              "}\n",
              "#h2o-table-8 .h2o-table th,\n",
              "#h2o-table-8 .h2o-table td {\n",
              "  text-align: right;\n",
              "  /* border: 1px solid; */\n",
              "}\n",
              "#h2o-table-8 .h2o-table tr:nth-child(even) {\n",
              "  /* background: #F5F5F5 */\n",
              "}\n",
              "\n",
              "</style>      \n",
              "<div id=\"h2o-table-8\" class=\"h2o-container\">\n",
              "  <table class=\"h2o-table\">\n",
              "    <caption>Model Summary: </caption>\n",
              "    <thead><tr><th></th>\n",
              "<th>number_of_trees</th></tr></thead>\n",
              "    <tbody><tr><td></td>\n",
              "<td>89.0</td></tr></tbody>\n",
              "  </table>\n",
              "</div>\n",
              "</div>\n",
              "<div style='margin: 1em 0 1em 0;'><pre style='margin: 1em 0 1em 0;'>ModelMetricsRegression: xgboost\n",
              "** Reported on train data. **\n",
              "\n",
              "MSE: 0.0001284868849925897\n",
              "RMSE: 0.011335205555815462\n",
              "MAE: 0.0026045122874260827\n",
              "RMSLE: 0.007945876397051204\n",
              "Mean Residual Deviance: 0.0001284868849925897</pre></div>\n",
              "<div style='margin: 1em 0 1em 0;'><pre style='margin: 1em 0 1em 0;'>ModelMetricsRegression: xgboost\n",
              "** Reported on cross-validation data. **\n",
              "\n",
              "MSE: 0.0008718165625753009\n",
              "RMSE: 0.029526539969581617\n",
              "MAE: 0.005817935547311027\n",
              "RMSLE: 0.02016466354074659\n",
              "Mean Residual Deviance: 0.0008718165625753009</pre></div>\n",
              "<div style='margin: 1em 0 1em 0;'>\n",
              "<style>\n",
              "\n",
              "#h2o-table-9.h2o-container {\n",
              "  overflow-x: auto;\n",
              "}\n",
              "#h2o-table-9 .h2o-table {\n",
              "  /* width: 100%; */\n",
              "  margin-top: 1em;\n",
              "  margin-bottom: 1em;\n",
              "}\n",
              "#h2o-table-9 .h2o-table caption {\n",
              "  white-space: nowrap;\n",
              "  caption-side: top;\n",
              "  text-align: left;\n",
              "  /* margin-left: 1em; */\n",
              "  margin: 0;\n",
              "  font-size: larger;\n",
              "}\n",
              "#h2o-table-9 .h2o-table thead {\n",
              "  white-space: nowrap; \n",
              "  position: sticky;\n",
              "  top: 0;\n",
              "  box-shadow: 0 -1px inset;\n",
              "}\n",
              "#h2o-table-9 .h2o-table tbody {\n",
              "  overflow: auto;\n",
              "}\n",
              "#h2o-table-9 .h2o-table th,\n",
              "#h2o-table-9 .h2o-table td {\n",
              "  text-align: right;\n",
              "  /* border: 1px solid; */\n",
              "}\n",
              "#h2o-table-9 .h2o-table tr:nth-child(even) {\n",
              "  /* background: #F5F5F5 */\n",
              "}\n",
              "\n",
              "</style>      \n",
              "<div id=\"h2o-table-9\" class=\"h2o-container\">\n",
              "  <table class=\"h2o-table\">\n",
              "    <caption>Cross-Validation Metrics Summary: </caption>\n",
              "    <thead><tr><th></th>\n",
              "<th>mean</th>\n",
              "<th>sd</th>\n",
              "<th>cv_1_valid</th>\n",
              "<th>cv_2_valid</th>\n",
              "<th>cv_3_valid</th>\n",
              "<th>cv_4_valid</th>\n",
              "<th>cv_5_valid</th></tr></thead>\n",
              "    <tbody><tr><td>aic</td>\n",
              "<td>nan</td>\n",
              "<td>0.0</td>\n",
              "<td>nan</td>\n",
              "<td>nan</td>\n",
              "<td>nan</td>\n",
              "<td>nan</td>\n",
              "<td>nan</td></tr>\n",
              "<tr><td>loglikelihood</td>\n",
              "<td>nan</td>\n",
              "<td>0.0</td>\n",
              "<td>nan</td>\n",
              "<td>nan</td>\n",
              "<td>nan</td>\n",
              "<td>nan</td>\n",
              "<td>nan</td></tr>\n",
              "<tr><td>mae</td>\n",
              "<td>0.0058179</td>\n",
              "<td>0.0005077</td>\n",
              "<td>0.0061290</td>\n",
              "<td>0.0056275</td>\n",
              "<td>0.0062154</td>\n",
              "<td>0.0061092</td>\n",
              "<td>0.0050086</td></tr>\n",
              "<tr><td>mean_residual_deviance</td>\n",
              "<td>0.0008718</td>\n",
              "<td>0.0000724</td>\n",
              "<td>0.0009305</td>\n",
              "<td>0.0007764</td>\n",
              "<td>0.0009403</td>\n",
              "<td>0.0008962</td>\n",
              "<td>0.0008158</td></tr>\n",
              "<tr><td>mse</td>\n",
              "<td>0.0008718</td>\n",
              "<td>0.0000724</td>\n",
              "<td>0.0009305</td>\n",
              "<td>0.0007764</td>\n",
              "<td>0.0009403</td>\n",
              "<td>0.0008962</td>\n",
              "<td>0.0008158</td></tr>\n",
              "<tr><td>r2</td>\n",
              "<td>0.9810221</td>\n",
              "<td>0.0016361</td>\n",
              "<td>0.9797716</td>\n",
              "<td>0.9832574</td>\n",
              "<td>0.9795122</td>\n",
              "<td>0.9803544</td>\n",
              "<td>0.9822146</td></tr>\n",
              "<tr><td>residual_deviance</td>\n",
              "<td>0.0008718</td>\n",
              "<td>0.0000724</td>\n",
              "<td>0.0009305</td>\n",
              "<td>0.0007764</td>\n",
              "<td>0.0009403</td>\n",
              "<td>0.0008962</td>\n",
              "<td>0.0008158</td></tr>\n",
              "<tr><td>rmse</td>\n",
              "<td>0.0295059</td>\n",
              "<td>0.0012356</td>\n",
              "<td>0.0305036</td>\n",
              "<td>0.0278642</td>\n",
              "<td>0.0306638</td>\n",
              "<td>0.0299359</td>\n",
              "<td>0.0285619</td></tr>\n",
              "<tr><td>rmsle</td>\n",
              "<td>0.0201512</td>\n",
              "<td>0.0008237</td>\n",
              "<td>0.0207726</td>\n",
              "<td>0.0191090</td>\n",
              "<td>0.0209163</td>\n",
              "<td>0.0205253</td>\n",
              "<td>0.0194327</td></tr></tbody>\n",
              "  </table>\n",
              "</div>\n",
              "</div>\n",
              "<div style='margin: 1em 0 1em 0;'>\n",
              "<style>\n",
              "\n",
              "#h2o-table-10.h2o-container {\n",
              "  overflow-x: auto;\n",
              "}\n",
              "#h2o-table-10 .h2o-table {\n",
              "  /* width: 100%; */\n",
              "  margin-top: 1em;\n",
              "  margin-bottom: 1em;\n",
              "}\n",
              "#h2o-table-10 .h2o-table caption {\n",
              "  white-space: nowrap;\n",
              "  caption-side: top;\n",
              "  text-align: left;\n",
              "  /* margin-left: 1em; */\n",
              "  margin: 0;\n",
              "  font-size: larger;\n",
              "}\n",
              "#h2o-table-10 .h2o-table thead {\n",
              "  white-space: nowrap; \n",
              "  position: sticky;\n",
              "  top: 0;\n",
              "  box-shadow: 0 -1px inset;\n",
              "}\n",
              "#h2o-table-10 .h2o-table tbody {\n",
              "  overflow: auto;\n",
              "}\n",
              "#h2o-table-10 .h2o-table th,\n",
              "#h2o-table-10 .h2o-table td {\n",
              "  text-align: right;\n",
              "  /* border: 1px solid; */\n",
              "}\n",
              "#h2o-table-10 .h2o-table tr:nth-child(even) {\n",
              "  /* background: #F5F5F5 */\n",
              "}\n",
              "\n",
              "</style>      \n",
              "<div id=\"h2o-table-10\" class=\"h2o-container\">\n",
              "  <table class=\"h2o-table\">\n",
              "    <caption>Scoring History: </caption>\n",
              "    <thead><tr><th></th>\n",
              "<th>timestamp</th>\n",
              "<th>duration</th>\n",
              "<th>number_of_trees</th>\n",
              "<th>training_rmse</th>\n",
              "<th>training_mae</th>\n",
              "<th>training_deviance</th></tr></thead>\n",
              "    <tbody><tr><td></td>\n",
              "<td>2024-10-11 12:55:03</td>\n",
              "<td> 8 min 28.340 sec</td>\n",
              "<td>0.0</td>\n",
              "<td>0.2143660</td>\n",
              "<td>0.1780656</td>\n",
              "<td>0.0459528</td></tr>\n",
              "<tr><td></td>\n",
              "<td>2024-10-11 12:55:05</td>\n",
              "<td> 8 min 30.894 sec</td>\n",
              "<td>5.0</td>\n",
              "<td>0.0633951</td>\n",
              "<td>0.0467176</td>\n",
              "<td>0.0040189</td></tr>\n",
              "<tr><td></td>\n",
              "<td>2024-10-11 12:55:09</td>\n",
              "<td> 8 min 34.884 sec</td>\n",
              "<td>10.0</td>\n",
              "<td>0.0352548</td>\n",
              "<td>0.0182153</td>\n",
              "<td>0.0012429</td></tr>\n",
              "<tr><td></td>\n",
              "<td>2024-10-11 12:55:11</td>\n",
              "<td> 8 min 37.148 sec</td>\n",
              "<td>15.0</td>\n",
              "<td>0.0275211</td>\n",
              "<td>0.0110084</td>\n",
              "<td>0.0007574</td></tr>\n",
              "<tr><td></td>\n",
              "<td>2024-10-11 12:55:14</td>\n",
              "<td> 8 min 39.490 sec</td>\n",
              "<td>20.0</td>\n",
              "<td>0.0250253</td>\n",
              "<td>0.0090825</td>\n",
              "<td>0.0006263</td></tr>\n",
              "<tr><td></td>\n",
              "<td>2024-10-11 12:55:16</td>\n",
              "<td> 8 min 42.012 sec</td>\n",
              "<td>25.0</td>\n",
              "<td>0.0228602</td>\n",
              "<td>0.0077213</td>\n",
              "<td>0.0005226</td></tr>\n",
              "<tr><td></td>\n",
              "<td>2024-10-11 12:55:20</td>\n",
              "<td> 8 min 45.646 sec</td>\n",
              "<td>30.0</td>\n",
              "<td>0.0214590</td>\n",
              "<td>0.0069232</td>\n",
              "<td>0.0004605</td></tr>\n",
              "<tr><td></td>\n",
              "<td>2024-10-11 12:55:24</td>\n",
              "<td> 8 min 49.354 sec</td>\n",
              "<td>35.0</td>\n",
              "<td>0.0202235</td>\n",
              "<td>0.0062169</td>\n",
              "<td>0.0004090</td></tr>\n",
              "<tr><td></td>\n",
              "<td>2024-10-11 12:55:27</td>\n",
              "<td> 8 min 52.317 sec</td>\n",
              "<td>40.0</td>\n",
              "<td>0.0190368</td>\n",
              "<td>0.0055888</td>\n",
              "<td>0.0003624</td></tr>\n",
              "<tr><td></td>\n",
              "<td>2024-10-11 12:55:30</td>\n",
              "<td> 8 min 55.437 sec</td>\n",
              "<td>45.0</td>\n",
              "<td>0.0179283</td>\n",
              "<td>0.0051236</td>\n",
              "<td>0.0003214</td></tr>\n",
              "<tr><td></td>\n",
              "<td>2024-10-11 12:55:34</td>\n",
              "<td> 8 min 59.978 sec</td>\n",
              "<td>50.0</td>\n",
              "<td>0.0171335</td>\n",
              "<td>0.0047615</td>\n",
              "<td>0.0002936</td></tr>\n",
              "<tr><td></td>\n",
              "<td>2024-10-11 12:55:38</td>\n",
              "<td> 9 min  4.197 sec</td>\n",
              "<td>55.0</td>\n",
              "<td>0.0163721</td>\n",
              "<td>0.0044277</td>\n",
              "<td>0.0002680</td></tr>\n",
              "<tr><td></td>\n",
              "<td>2024-10-11 12:55:43</td>\n",
              "<td> 9 min  9.088 sec</td>\n",
              "<td>60.0</td>\n",
              "<td>0.0155450</td>\n",
              "<td>0.0040890</td>\n",
              "<td>0.0002416</td></tr>\n",
              "<tr><td></td>\n",
              "<td>2024-10-11 12:55:49</td>\n",
              "<td> 9 min 14.476 sec</td>\n",
              "<td>65.0</td>\n",
              "<td>0.0145003</td>\n",
              "<td>0.0037018</td>\n",
              "<td>0.0002103</td></tr>\n",
              "<tr><td></td>\n",
              "<td>2024-10-11 12:55:55</td>\n",
              "<td> 9 min 21.224 sec</td>\n",
              "<td>70.0</td>\n",
              "<td>0.0137569</td>\n",
              "<td>0.0034417</td>\n",
              "<td>0.0001893</td></tr>\n",
              "<tr><td></td>\n",
              "<td>2024-10-11 12:56:00</td>\n",
              "<td> 9 min 25.402 sec</td>\n",
              "<td>75.0</td>\n",
              "<td>0.0132376</td>\n",
              "<td>0.0032402</td>\n",
              "<td>0.0001752</td></tr>\n",
              "<tr><td></td>\n",
              "<td>2024-10-11 12:56:06</td>\n",
              "<td> 9 min 31.619 sec</td>\n",
              "<td>80.0</td>\n",
              "<td>0.0125438</td>\n",
              "<td>0.0030010</td>\n",
              "<td>0.0001573</td></tr>\n",
              "<tr><td></td>\n",
              "<td>2024-10-11 12:56:11</td>\n",
              "<td> 9 min 36.326 sec</td>\n",
              "<td>85.0</td>\n",
              "<td>0.0117602</td>\n",
              "<td>0.0027528</td>\n",
              "<td>0.0001383</td></tr>\n",
              "<tr><td></td>\n",
              "<td>2024-10-11 12:56:16</td>\n",
              "<td> 9 min 42.150 sec</td>\n",
              "<td>89.0</td>\n",
              "<td>0.0113352</td>\n",
              "<td>0.0026045</td>\n",
              "<td>0.0001285</td></tr></tbody>\n",
              "  </table>\n",
              "</div>\n",
              "</div>\n",
              "<div style='margin: 1em 0 1em 0;'>\n",
              "<style>\n",
              "\n",
              "#h2o-table-11.h2o-container {\n",
              "  overflow-x: auto;\n",
              "}\n",
              "#h2o-table-11 .h2o-table {\n",
              "  /* width: 100%; */\n",
              "  margin-top: 1em;\n",
              "  margin-bottom: 1em;\n",
              "}\n",
              "#h2o-table-11 .h2o-table caption {\n",
              "  white-space: nowrap;\n",
              "  caption-side: top;\n",
              "  text-align: left;\n",
              "  /* margin-left: 1em; */\n",
              "  margin: 0;\n",
              "  font-size: larger;\n",
              "}\n",
              "#h2o-table-11 .h2o-table thead {\n",
              "  white-space: nowrap; \n",
              "  position: sticky;\n",
              "  top: 0;\n",
              "  box-shadow: 0 -1px inset;\n",
              "}\n",
              "#h2o-table-11 .h2o-table tbody {\n",
              "  overflow: auto;\n",
              "}\n",
              "#h2o-table-11 .h2o-table th,\n",
              "#h2o-table-11 .h2o-table td {\n",
              "  text-align: right;\n",
              "  /* border: 1px solid; */\n",
              "}\n",
              "#h2o-table-11 .h2o-table tr:nth-child(even) {\n",
              "  /* background: #F5F5F5 */\n",
              "}\n",
              "\n",
              "</style>      \n",
              "<div id=\"h2o-table-11\" class=\"h2o-container\">\n",
              "  <table class=\"h2o-table\">\n",
              "    <caption>Variable Importances: </caption>\n",
              "    <thead><tr><th>variable</th>\n",
              "<th>relative_importance</th>\n",
              "<th>scaled_importance</th>\n",
              "<th>percentage</th></tr></thead>\n",
              "    <tbody><tr><td>danceability</td>\n",
              "<td>1982.0886230</td>\n",
              "<td>1.0</td>\n",
              "<td>0.1887153</td></tr>\n",
              "<tr><td>energy</td>\n",
              "<td>1552.2984619</td>\n",
              "<td>0.7831630</td>\n",
              "<td>0.1477948</td></tr>\n",
              "<tr><td>duration_ms</td>\n",
              "<td>1208.3128662</td>\n",
              "<td>0.6096160</td>\n",
              "<td>0.1150438</td></tr>\n",
              "<tr><td>speechiness</td>\n",
              "<td>1152.4903564</td>\n",
              "<td>0.5814525</td>\n",
              "<td>0.1097290</td></tr>\n",
              "<tr><td>tempo</td>\n",
              "<td>1079.4323730</td>\n",
              "<td>0.5445934</td>\n",
              "<td>0.1027731</td></tr>\n",
              "<tr><td>acousticness</td>\n",
              "<td>971.6242676</td>\n",
              "<td>0.4902022</td>\n",
              "<td>0.0925087</td></tr>\n",
              "<tr><td>loudness</td>\n",
              "<td>922.8851929</td>\n",
              "<td>0.4656125</td>\n",
              "<td>0.0878682</td></tr>\n",
              "<tr><td>liveness</td>\n",
              "<td>694.9797363</td>\n",
              "<td>0.3506300</td>\n",
              "<td>0.0661692</td></tr>\n",
              "<tr><td>instrumentalness</td>\n",
              "<td>531.7036133</td>\n",
              "<td>0.2682542</td>\n",
              "<td>0.0506237</td></tr>\n",
              "<tr><td>key</td>\n",
              "<td>303.9988708</td>\n",
              "<td>0.1533730</td>\n",
              "<td>0.0289438</td></tr>\n",
              "<tr><td>mode</td>\n",
              "<td>103.2495193</td>\n",
              "<td>0.0520913</td>\n",
              "<td>0.0098304</td></tr></tbody>\n",
              "  </table>\n",
              "</div>\n",
              "</div><pre style=\"font-size: smaller; margin: 1em 0 0 0;\">\n",
              "\n",
              "[tips]\n",
              "Use `model.explain()` to inspect the model.\n",
              "--\n",
              "Use `h2o.display.toggle_user_tips()` to switch on/off this section.</pre>"
            ]
          },
          "metadata": {},
          "execution_count": 37
        }
      ]
    },
    {
      "cell_type": "markdown",
      "source": [
        "### Results of Models"
      ],
      "metadata": {
        "id": "QUsP1HIv26DS"
      }
    },
    {
      "cell_type": "code",
      "source": [
        "models_id=list(aml.leaderboard['model_id'].as_data_frame().iloc[:,0])\n",
        "models_id"
      ],
      "metadata": {
        "id": "xUo2hbNaOGlE",
        "colab": {
          "base_uri": "https://localhost:8080/"
        },
        "outputId": "8155e105-7473-4f3e-ab34-9a2e49594d88"
      },
      "execution_count": 54,
      "outputs": [
        {
          "output_type": "execute_result",
          "data": {
            "text/plain": [
              "['XGBoost_1_AutoML_5_20241011_124634',\n",
              " 'DRF_1_AutoML_5_20241011_124634',\n",
              " 'GBM_4_AutoML_5_20241011_124634',\n",
              " 'XGBoost_2_AutoML_5_20241011_124634',\n",
              " 'XRT_1_AutoML_5_20241011_124634',\n",
              " 'GBM_1_AutoML_5_20241011_124634',\n",
              " 'GBM_3_AutoML_5_20241011_124634',\n",
              " 'GBM_2_AutoML_5_20241011_124634',\n",
              " 'XGBoost_3_AutoML_5_20241011_124634',\n",
              " 'GBM_5_AutoML_5_20241011_124634',\n",
              " 'DeepLearning_1_AutoML_5_20241011_124634',\n",
              " 'GLM_1_AutoML_5_20241011_124634']"
            ]
          },
          "metadata": {},
          "execution_count": 54
        }
      ]
    },
    {
      "cell_type": "code",
      "source": [
        "pandas_df = aml.leaderboard['model_id'].as_data_frame(use_multi_thread=True)\n",
        "pandas_df"
      ],
      "metadata": {
        "colab": {
          "base_uri": "https://localhost:8080/",
          "height": 443
        },
        "id": "uCouP5_p1H5C",
        "outputId": "4547b746-e417-4892-dd27-098706397271"
      },
      "execution_count": 39,
      "outputs": [
        {
          "output_type": "stream",
          "name": "stdout",
          "text": [
            "Export File progress: |██████████████████████████████████████████████████████████| (done) 100%\n"
          ]
        },
        {
          "output_type": "execute_result",
          "data": {
            "text/plain": [
              "                                   model_id\n",
              "0        XGBoost_1_AutoML_5_20241011_124634\n",
              "1            DRF_1_AutoML_5_20241011_124634\n",
              "2            GBM_4_AutoML_5_20241011_124634\n",
              "3        XGBoost_2_AutoML_5_20241011_124634\n",
              "4            XRT_1_AutoML_5_20241011_124634\n",
              "5            GBM_1_AutoML_5_20241011_124634\n",
              "6            GBM_3_AutoML_5_20241011_124634\n",
              "7            GBM_2_AutoML_5_20241011_124634\n",
              "8        XGBoost_3_AutoML_5_20241011_124634\n",
              "9            GBM_5_AutoML_5_20241011_124634\n",
              "10  DeepLearning_1_AutoML_5_20241011_124634\n",
              "11           GLM_1_AutoML_5_20241011_124634"
            ],
            "text/html": [
              "\n",
              "  <div id=\"df-3a4cf9b2-99dd-4df0-9650-ae438b4bae81\" class=\"colab-df-container\">\n",
              "    <div>\n",
              "<style scoped>\n",
              "    .dataframe tbody tr th:only-of-type {\n",
              "        vertical-align: middle;\n",
              "    }\n",
              "\n",
              "    .dataframe tbody tr th {\n",
              "        vertical-align: top;\n",
              "    }\n",
              "\n",
              "    .dataframe thead th {\n",
              "        text-align: right;\n",
              "    }\n",
              "</style>\n",
              "<table border=\"1\" class=\"dataframe\">\n",
              "  <thead>\n",
              "    <tr style=\"text-align: right;\">\n",
              "      <th></th>\n",
              "      <th>model_id</th>\n",
              "    </tr>\n",
              "  </thead>\n",
              "  <tbody>\n",
              "    <tr>\n",
              "      <th>0</th>\n",
              "      <td>XGBoost_1_AutoML_5_20241011_124634</td>\n",
              "    </tr>\n",
              "    <tr>\n",
              "      <th>1</th>\n",
              "      <td>DRF_1_AutoML_5_20241011_124634</td>\n",
              "    </tr>\n",
              "    <tr>\n",
              "      <th>2</th>\n",
              "      <td>GBM_4_AutoML_5_20241011_124634</td>\n",
              "    </tr>\n",
              "    <tr>\n",
              "      <th>3</th>\n",
              "      <td>XGBoost_2_AutoML_5_20241011_124634</td>\n",
              "    </tr>\n",
              "    <tr>\n",
              "      <th>4</th>\n",
              "      <td>XRT_1_AutoML_5_20241011_124634</td>\n",
              "    </tr>\n",
              "    <tr>\n",
              "      <th>5</th>\n",
              "      <td>GBM_1_AutoML_5_20241011_124634</td>\n",
              "    </tr>\n",
              "    <tr>\n",
              "      <th>6</th>\n",
              "      <td>GBM_3_AutoML_5_20241011_124634</td>\n",
              "    </tr>\n",
              "    <tr>\n",
              "      <th>7</th>\n",
              "      <td>GBM_2_AutoML_5_20241011_124634</td>\n",
              "    </tr>\n",
              "    <tr>\n",
              "      <th>8</th>\n",
              "      <td>XGBoost_3_AutoML_5_20241011_124634</td>\n",
              "    </tr>\n",
              "    <tr>\n",
              "      <th>9</th>\n",
              "      <td>GBM_5_AutoML_5_20241011_124634</td>\n",
              "    </tr>\n",
              "    <tr>\n",
              "      <th>10</th>\n",
              "      <td>DeepLearning_1_AutoML_5_20241011_124634</td>\n",
              "    </tr>\n",
              "    <tr>\n",
              "      <th>11</th>\n",
              "      <td>GLM_1_AutoML_5_20241011_124634</td>\n",
              "    </tr>\n",
              "  </tbody>\n",
              "</table>\n",
              "</div>\n",
              "    <div class=\"colab-df-buttons\">\n",
              "\n",
              "  <div class=\"colab-df-container\">\n",
              "    <button class=\"colab-df-convert\" onclick=\"convertToInteractive('df-3a4cf9b2-99dd-4df0-9650-ae438b4bae81')\"\n",
              "            title=\"Convert this dataframe to an interactive table.\"\n",
              "            style=\"display:none;\">\n",
              "\n",
              "  <svg xmlns=\"http://www.w3.org/2000/svg\" height=\"24px\" viewBox=\"0 -960 960 960\">\n",
              "    <path d=\"M120-120v-720h720v720H120Zm60-500h600v-160H180v160Zm220 220h160v-160H400v160Zm0 220h160v-160H400v160ZM180-400h160v-160H180v160Zm440 0h160v-160H620v160ZM180-180h160v-160H180v160Zm440 0h160v-160H620v160Z\"/>\n",
              "  </svg>\n",
              "    </button>\n",
              "\n",
              "  <style>\n",
              "    .colab-df-container {\n",
              "      display:flex;\n",
              "      gap: 12px;\n",
              "    }\n",
              "\n",
              "    .colab-df-convert {\n",
              "      background-color: #E8F0FE;\n",
              "      border: none;\n",
              "      border-radius: 50%;\n",
              "      cursor: pointer;\n",
              "      display: none;\n",
              "      fill: #1967D2;\n",
              "      height: 32px;\n",
              "      padding: 0 0 0 0;\n",
              "      width: 32px;\n",
              "    }\n",
              "\n",
              "    .colab-df-convert:hover {\n",
              "      background-color: #E2EBFA;\n",
              "      box-shadow: 0px 1px 2px rgba(60, 64, 67, 0.3), 0px 1px 3px 1px rgba(60, 64, 67, 0.15);\n",
              "      fill: #174EA6;\n",
              "    }\n",
              "\n",
              "    .colab-df-buttons div {\n",
              "      margin-bottom: 4px;\n",
              "    }\n",
              "\n",
              "    [theme=dark] .colab-df-convert {\n",
              "      background-color: #3B4455;\n",
              "      fill: #D2E3FC;\n",
              "    }\n",
              "\n",
              "    [theme=dark] .colab-df-convert:hover {\n",
              "      background-color: #434B5C;\n",
              "      box-shadow: 0px 1px 3px 1px rgba(0, 0, 0, 0.15);\n",
              "      filter: drop-shadow(0px 1px 2px rgba(0, 0, 0, 0.3));\n",
              "      fill: #FFFFFF;\n",
              "    }\n",
              "  </style>\n",
              "\n",
              "    <script>\n",
              "      const buttonEl =\n",
              "        document.querySelector('#df-3a4cf9b2-99dd-4df0-9650-ae438b4bae81 button.colab-df-convert');\n",
              "      buttonEl.style.display =\n",
              "        google.colab.kernel.accessAllowed ? 'block' : 'none';\n",
              "\n",
              "      async function convertToInteractive(key) {\n",
              "        const element = document.querySelector('#df-3a4cf9b2-99dd-4df0-9650-ae438b4bae81');\n",
              "        const dataTable =\n",
              "          await google.colab.kernel.invokeFunction('convertToInteractive',\n",
              "                                                    [key], {});\n",
              "        if (!dataTable) return;\n",
              "\n",
              "        const docLinkHtml = 'Like what you see? Visit the ' +\n",
              "          '<a target=\"_blank\" href=https://colab.research.google.com/notebooks/data_table.ipynb>data table notebook</a>'\n",
              "          + ' to learn more about interactive tables.';\n",
              "        element.innerHTML = '';\n",
              "        dataTable['output_type'] = 'display_data';\n",
              "        await google.colab.output.renderOutput(dataTable, element);\n",
              "        const docLink = document.createElement('div');\n",
              "        docLink.innerHTML = docLinkHtml;\n",
              "        element.appendChild(docLink);\n",
              "      }\n",
              "    </script>\n",
              "  </div>\n",
              "\n",
              "\n",
              "<div id=\"df-35519587-5b4c-47bd-b979-36155ad228b7\">\n",
              "  <button class=\"colab-df-quickchart\" onclick=\"quickchart('df-35519587-5b4c-47bd-b979-36155ad228b7')\"\n",
              "            title=\"Suggest charts\"\n",
              "            style=\"display:none;\">\n",
              "\n",
              "<svg xmlns=\"http://www.w3.org/2000/svg\" height=\"24px\"viewBox=\"0 0 24 24\"\n",
              "     width=\"24px\">\n",
              "    <g>\n",
              "        <path d=\"M19 3H5c-1.1 0-2 .9-2 2v14c0 1.1.9 2 2 2h14c1.1 0 2-.9 2-2V5c0-1.1-.9-2-2-2zM9 17H7v-7h2v7zm4 0h-2V7h2v10zm4 0h-2v-4h2v4z\"/>\n",
              "    </g>\n",
              "</svg>\n",
              "  </button>\n",
              "\n",
              "<style>\n",
              "  .colab-df-quickchart {\n",
              "      --bg-color: #E8F0FE;\n",
              "      --fill-color: #1967D2;\n",
              "      --hover-bg-color: #E2EBFA;\n",
              "      --hover-fill-color: #174EA6;\n",
              "      --disabled-fill-color: #AAA;\n",
              "      --disabled-bg-color: #DDD;\n",
              "  }\n",
              "\n",
              "  [theme=dark] .colab-df-quickchart {\n",
              "      --bg-color: #3B4455;\n",
              "      --fill-color: #D2E3FC;\n",
              "      --hover-bg-color: #434B5C;\n",
              "      --hover-fill-color: #FFFFFF;\n",
              "      --disabled-bg-color: #3B4455;\n",
              "      --disabled-fill-color: #666;\n",
              "  }\n",
              "\n",
              "  .colab-df-quickchart {\n",
              "    background-color: var(--bg-color);\n",
              "    border: none;\n",
              "    border-radius: 50%;\n",
              "    cursor: pointer;\n",
              "    display: none;\n",
              "    fill: var(--fill-color);\n",
              "    height: 32px;\n",
              "    padding: 0;\n",
              "    width: 32px;\n",
              "  }\n",
              "\n",
              "  .colab-df-quickchart:hover {\n",
              "    background-color: var(--hover-bg-color);\n",
              "    box-shadow: 0 1px 2px rgba(60, 64, 67, 0.3), 0 1px 3px 1px rgba(60, 64, 67, 0.15);\n",
              "    fill: var(--button-hover-fill-color);\n",
              "  }\n",
              "\n",
              "  .colab-df-quickchart-complete:disabled,\n",
              "  .colab-df-quickchart-complete:disabled:hover {\n",
              "    background-color: var(--disabled-bg-color);\n",
              "    fill: var(--disabled-fill-color);\n",
              "    box-shadow: none;\n",
              "  }\n",
              "\n",
              "  .colab-df-spinner {\n",
              "    border: 2px solid var(--fill-color);\n",
              "    border-color: transparent;\n",
              "    border-bottom-color: var(--fill-color);\n",
              "    animation:\n",
              "      spin 1s steps(1) infinite;\n",
              "  }\n",
              "\n",
              "  @keyframes spin {\n",
              "    0% {\n",
              "      border-color: transparent;\n",
              "      border-bottom-color: var(--fill-color);\n",
              "      border-left-color: var(--fill-color);\n",
              "    }\n",
              "    20% {\n",
              "      border-color: transparent;\n",
              "      border-left-color: var(--fill-color);\n",
              "      border-top-color: var(--fill-color);\n",
              "    }\n",
              "    30% {\n",
              "      border-color: transparent;\n",
              "      border-left-color: var(--fill-color);\n",
              "      border-top-color: var(--fill-color);\n",
              "      border-right-color: var(--fill-color);\n",
              "    }\n",
              "    40% {\n",
              "      border-color: transparent;\n",
              "      border-right-color: var(--fill-color);\n",
              "      border-top-color: var(--fill-color);\n",
              "    }\n",
              "    60% {\n",
              "      border-color: transparent;\n",
              "      border-right-color: var(--fill-color);\n",
              "    }\n",
              "    80% {\n",
              "      border-color: transparent;\n",
              "      border-right-color: var(--fill-color);\n",
              "      border-bottom-color: var(--fill-color);\n",
              "    }\n",
              "    90% {\n",
              "      border-color: transparent;\n",
              "      border-bottom-color: var(--fill-color);\n",
              "    }\n",
              "  }\n",
              "</style>\n",
              "\n",
              "  <script>\n",
              "    async function quickchart(key) {\n",
              "      const quickchartButtonEl =\n",
              "        document.querySelector('#' + key + ' button');\n",
              "      quickchartButtonEl.disabled = true;  // To prevent multiple clicks.\n",
              "      quickchartButtonEl.classList.add('colab-df-spinner');\n",
              "      try {\n",
              "        const charts = await google.colab.kernel.invokeFunction(\n",
              "            'suggestCharts', [key], {});\n",
              "      } catch (error) {\n",
              "        console.error('Error during call to suggestCharts:', error);\n",
              "      }\n",
              "      quickchartButtonEl.classList.remove('colab-df-spinner');\n",
              "      quickchartButtonEl.classList.add('colab-df-quickchart-complete');\n",
              "    }\n",
              "    (() => {\n",
              "      let quickchartButtonEl =\n",
              "        document.querySelector('#df-35519587-5b4c-47bd-b979-36155ad228b7 button');\n",
              "      quickchartButtonEl.style.display =\n",
              "        google.colab.kernel.accessAllowed ? 'block' : 'none';\n",
              "    })();\n",
              "  </script>\n",
              "</div>\n",
              "\n",
              "  <div id=\"id_bf14ed00-0761-4099-af85-c3430ce4fb8b\">\n",
              "    <style>\n",
              "      .colab-df-generate {\n",
              "        background-color: #E8F0FE;\n",
              "        border: none;\n",
              "        border-radius: 50%;\n",
              "        cursor: pointer;\n",
              "        display: none;\n",
              "        fill: #1967D2;\n",
              "        height: 32px;\n",
              "        padding: 0 0 0 0;\n",
              "        width: 32px;\n",
              "      }\n",
              "\n",
              "      .colab-df-generate:hover {\n",
              "        background-color: #E2EBFA;\n",
              "        box-shadow: 0px 1px 2px rgba(60, 64, 67, 0.3), 0px 1px 3px 1px rgba(60, 64, 67, 0.15);\n",
              "        fill: #174EA6;\n",
              "      }\n",
              "\n",
              "      [theme=dark] .colab-df-generate {\n",
              "        background-color: #3B4455;\n",
              "        fill: #D2E3FC;\n",
              "      }\n",
              "\n",
              "      [theme=dark] .colab-df-generate:hover {\n",
              "        background-color: #434B5C;\n",
              "        box-shadow: 0px 1px 3px 1px rgba(0, 0, 0, 0.15);\n",
              "        filter: drop-shadow(0px 1px 2px rgba(0, 0, 0, 0.3));\n",
              "        fill: #FFFFFF;\n",
              "      }\n",
              "    </style>\n",
              "    <button class=\"colab-df-generate\" onclick=\"generateWithVariable('pandas_df')\"\n",
              "            title=\"Generate code using this dataframe.\"\n",
              "            style=\"display:none;\">\n",
              "\n",
              "  <svg xmlns=\"http://www.w3.org/2000/svg\" height=\"24px\"viewBox=\"0 0 24 24\"\n",
              "       width=\"24px\">\n",
              "    <path d=\"M7,19H8.4L18.45,9,17,7.55,7,17.6ZM5,21V16.75L18.45,3.32a2,2,0,0,1,2.83,0l1.4,1.43a1.91,1.91,0,0,1,.58,1.4,1.91,1.91,0,0,1-.58,1.4L9.25,21ZM18.45,9,17,7.55Zm-12,3A5.31,5.31,0,0,0,4.9,8.1,5.31,5.31,0,0,0,1,6.5,5.31,5.31,0,0,0,4.9,4.9,5.31,5.31,0,0,0,6.5,1,5.31,5.31,0,0,0,8.1,4.9,5.31,5.31,0,0,0,12,6.5,5.46,5.46,0,0,0,6.5,12Z\"/>\n",
              "  </svg>\n",
              "    </button>\n",
              "    <script>\n",
              "      (() => {\n",
              "      const buttonEl =\n",
              "        document.querySelector('#id_bf14ed00-0761-4099-af85-c3430ce4fb8b button.colab-df-generate');\n",
              "      buttonEl.style.display =\n",
              "        google.colab.kernel.accessAllowed ? 'block' : 'none';\n",
              "\n",
              "      buttonEl.onclick = () => {\n",
              "        google.colab.notebook.generateWithVariable('pandas_df');\n",
              "      }\n",
              "      })();\n",
              "    </script>\n",
              "  </div>\n",
              "\n",
              "    </div>\n",
              "  </div>\n"
            ],
            "application/vnd.google.colaboratory.intrinsic+json": {
              "type": "dataframe",
              "variable_name": "pandas_df",
              "summary": "{\n  \"name\": \"pandas_df\",\n  \"rows\": 12,\n  \"fields\": [\n    {\n      \"column\": \"model_id\",\n      \"properties\": {\n        \"dtype\": \"string\",\n        \"num_unique_values\": 12,\n        \"samples\": [\n          \"DeepLearning_1_AutoML_5_20241011_124634\",\n          \"GBM_5_AutoML_5_20241011_124634\",\n          \"XGBoost_1_AutoML_5_20241011_124634\"\n        ],\n        \"semantic_type\": \"\",\n        \"description\": \"\"\n      }\n    }\n  ]\n}"
            }
          },
          "metadata": {},
          "execution_count": 39
        }
      ]
    },
    {
      "cell_type": "code",
      "source": [
        "models=aml.leaderboard\n",
        "models.head()"
      ],
      "metadata": {
        "colab": {
          "base_uri": "https://localhost:8080/",
          "height": 389
        },
        "id": "dz9EVT-2PvN1",
        "outputId": "3723ca3c-9d89-4013-a3a8-719859afa943"
      },
      "execution_count": 40,
      "outputs": [
        {
          "output_type": "execute_result",
          "data": {
            "text/plain": [
              "model_id                                    mse       rmse         mae      rmsle    mean_residual_deviance\n",
              "----------------------------------  -----------  ---------  ----------  ---------  ------------------------\n",
              "XGBoost_1_AutoML_5_20241011_124634  0.000871817  0.0295265  0.00581794  0.0201647               0.000871817\n",
              "DRF_1_AutoML_5_20241011_124634      0.000968684  0.0311237  0.0104066   0.021421                0.000968684\n",
              "GBM_4_AutoML_5_20241011_124634      0.00119487   0.0345668  0.0109578   0.0237121               0.00119487\n",
              "XGBoost_2_AutoML_5_20241011_124634  0.00128541   0.0358526  0.0117165   0.0245182               0.00128541\n",
              "XRT_1_AutoML_5_20241011_124634      0.00138677   0.0372394  0.0141582   0.0255374               0.00138677\n",
              "GBM_1_AutoML_5_20241011_124634      0.00178767   0.0422808  0.0151934   0.0289707               0.00178767\n",
              "GBM_3_AutoML_5_20241011_124634      0.0021744    0.0466305  0.0210733   0.0319442               0.0021744\n",
              "GBM_2_AutoML_5_20241011_124634      0.0032937    0.0573907  0.0300452   0.0391773               0.0032937\n",
              "XGBoost_3_AutoML_5_20241011_124634  0.0169626    0.13024    0.0992745   0.0880098               0.0169626\n",
              "GBM_5_AutoML_5_20241011_124634      0.0221786    0.148925   0.119126    0.100893                0.0221786\n",
              "[10 rows x 6 columns]\n"
            ],
            "text/html": [
              "<table class='dataframe'>\n",
              "<thead>\n",
              "<tr><th>model_id                          </th><th style=\"text-align: right;\">        mse</th><th style=\"text-align: right;\">     rmse</th><th style=\"text-align: right;\">       mae</th><th style=\"text-align: right;\">    rmsle</th><th style=\"text-align: right;\">  mean_residual_deviance</th></tr>\n",
              "</thead>\n",
              "<tbody>\n",
              "<tr><td>XGBoost_1_AutoML_5_20241011_124634</td><td style=\"text-align: right;\">0.000871817</td><td style=\"text-align: right;\">0.0295265</td><td style=\"text-align: right;\">0.00581794</td><td style=\"text-align: right;\">0.0201647</td><td style=\"text-align: right;\">             0.000871817</td></tr>\n",
              "<tr><td>DRF_1_AutoML_5_20241011_124634    </td><td style=\"text-align: right;\">0.000968684</td><td style=\"text-align: right;\">0.0311237</td><td style=\"text-align: right;\">0.0104066 </td><td style=\"text-align: right;\">0.021421 </td><td style=\"text-align: right;\">             0.000968684</td></tr>\n",
              "<tr><td>GBM_4_AutoML_5_20241011_124634    </td><td style=\"text-align: right;\">0.00119487 </td><td style=\"text-align: right;\">0.0345668</td><td style=\"text-align: right;\">0.0109578 </td><td style=\"text-align: right;\">0.0237121</td><td style=\"text-align: right;\">             0.00119487 </td></tr>\n",
              "<tr><td>XGBoost_2_AutoML_5_20241011_124634</td><td style=\"text-align: right;\">0.00128541 </td><td style=\"text-align: right;\">0.0358526</td><td style=\"text-align: right;\">0.0117165 </td><td style=\"text-align: right;\">0.0245182</td><td style=\"text-align: right;\">             0.00128541 </td></tr>\n",
              "<tr><td>XRT_1_AutoML_5_20241011_124634    </td><td style=\"text-align: right;\">0.00138677 </td><td style=\"text-align: right;\">0.0372394</td><td style=\"text-align: right;\">0.0141582 </td><td style=\"text-align: right;\">0.0255374</td><td style=\"text-align: right;\">             0.00138677 </td></tr>\n",
              "<tr><td>GBM_1_AutoML_5_20241011_124634    </td><td style=\"text-align: right;\">0.00178767 </td><td style=\"text-align: right;\">0.0422808</td><td style=\"text-align: right;\">0.0151934 </td><td style=\"text-align: right;\">0.0289707</td><td style=\"text-align: right;\">             0.00178767 </td></tr>\n",
              "<tr><td>GBM_3_AutoML_5_20241011_124634    </td><td style=\"text-align: right;\">0.0021744  </td><td style=\"text-align: right;\">0.0466305</td><td style=\"text-align: right;\">0.0210733 </td><td style=\"text-align: right;\">0.0319442</td><td style=\"text-align: right;\">             0.0021744  </td></tr>\n",
              "<tr><td>GBM_2_AutoML_5_20241011_124634    </td><td style=\"text-align: right;\">0.0032937  </td><td style=\"text-align: right;\">0.0573907</td><td style=\"text-align: right;\">0.0300452 </td><td style=\"text-align: right;\">0.0391773</td><td style=\"text-align: right;\">             0.0032937  </td></tr>\n",
              "<tr><td>XGBoost_3_AutoML_5_20241011_124634</td><td style=\"text-align: right;\">0.0169626  </td><td style=\"text-align: right;\">0.13024  </td><td style=\"text-align: right;\">0.0992745 </td><td style=\"text-align: right;\">0.0880098</td><td style=\"text-align: right;\">             0.0169626  </td></tr>\n",
              "<tr><td>GBM_5_AutoML_5_20241011_124634    </td><td style=\"text-align: right;\">0.0221786  </td><td style=\"text-align: right;\">0.148925 </td><td style=\"text-align: right;\">0.119126  </td><td style=\"text-align: right;\">0.100893 </td><td style=\"text-align: right;\">             0.0221786  </td></tr>\n",
              "</tbody>\n",
              "</table><pre style='font-size: smaller; margin-bottom: 1em;'>[10 rows x 6 columns]</pre>"
            ]
          },
          "metadata": {},
          "execution_count": 40
        }
      ]
    },
    {
      "cell_type": "markdown",
      "source": [
        "### Details of Models"
      ],
      "metadata": {
        "id": "RQDDl2Q13AgK"
      }
    },
    {
      "cell_type": "code",
      "source": [
        "models_details = get_leaderboard(aml, extra_columns='ALL')\n",
        "models_details.head(models_details.nrows)"
      ],
      "metadata": {
        "colab": {
          "base_uri": "https://localhost:8080/",
          "height": 452
        },
        "id": "3UDehRiWm5tk",
        "outputId": "580732be-8bc4-4f41-d018-efbc23f2d9fc"
      },
      "execution_count": 41,
      "outputs": [
        {
          "output_type": "execute_result",
          "data": {
            "text/plain": [
              "model_id                                         mse       rmse         mae      rmsle    mean_residual_deviance    training_time_ms    predict_time_per_row_ms  algo\n",
              "---------------------------------------  -----------  ---------  ----------  ---------  ------------------------  ------------------  -------------------------  ------------\n",
              "XGBoost_1_AutoML_5_20241011_124634       0.000871817  0.0295265  0.00581794  0.0201647               0.000871817               77823                   0.018451  XGBoost\n",
              "DRF_1_AutoML_5_20241011_124634           0.000968684  0.0311237  0.0104066   0.021421                0.000968684               31684                   0.028392  DRF\n",
              "GBM_4_AutoML_5_20241011_124634           0.00119487   0.0345668  0.0109578   0.0237121               0.00119487                84371                   0.10107   GBM\n",
              "XGBoost_2_AutoML_5_20241011_124634       0.00128541   0.0358526  0.0117165   0.0245182               0.00128541                58530                   0.011417  XGBoost\n",
              "XRT_1_AutoML_5_20241011_124634           0.00138677   0.0372394  0.0141582   0.0255374               0.00138677                 2977                   0.002314  DRF\n",
              "GBM_1_AutoML_5_20241011_124634           0.00178767   0.0422808  0.0151934   0.0289707               0.00178767                93997                   0.104826  GBM\n",
              "GBM_3_AutoML_5_20241011_124634           0.0021744    0.0466305  0.0210733   0.0319442               0.0021744                 89496                   0.108512  GBM\n",
              "GBM_2_AutoML_5_20241011_124634           0.0032937    0.0573907  0.0300452   0.0391773               0.0032937                 90028                   0.10357   GBM\n",
              "XGBoost_3_AutoML_5_20241011_124634       0.0169626    0.13024    0.0992745   0.0880098               0.0169626                  5832                   0.002263  XGBoost\n",
              "GBM_5_AutoML_5_20241011_124634           0.0221786    0.148925   0.119126    0.100893                0.0221786                  4175                   0.009478  GBM\n",
              "DeepLearning_1_AutoML_5_20241011_124634  0.0269121    0.164049   0.12782     0.11096                 0.0269121                  2253                   0.002944  DeepLearning\n",
              "GLM_1_AutoML_5_20241011_124634           0.034021     0.184448   0.149615    0.124459                0.034021                    811                   0.000644  GLM\n",
              "[12 rows x 9 columns]\n"
            ],
            "text/html": [
              "<table class='dataframe'>\n",
              "<thead>\n",
              "<tr><th>model_id                               </th><th style=\"text-align: right;\">        mse</th><th style=\"text-align: right;\">     rmse</th><th style=\"text-align: right;\">       mae</th><th style=\"text-align: right;\">    rmsle</th><th style=\"text-align: right;\">  mean_residual_deviance</th><th style=\"text-align: right;\">  training_time_ms</th><th style=\"text-align: right;\">  predict_time_per_row_ms</th><th>algo        </th></tr>\n",
              "</thead>\n",
              "<tbody>\n",
              "<tr><td>XGBoost_1_AutoML_5_20241011_124634     </td><td style=\"text-align: right;\">0.000871817</td><td style=\"text-align: right;\">0.0295265</td><td style=\"text-align: right;\">0.00581794</td><td style=\"text-align: right;\">0.0201647</td><td style=\"text-align: right;\">             0.000871817</td><td style=\"text-align: right;\">             77823</td><td style=\"text-align: right;\">                 0.018451</td><td>XGBoost     </td></tr>\n",
              "<tr><td>DRF_1_AutoML_5_20241011_124634         </td><td style=\"text-align: right;\">0.000968684</td><td style=\"text-align: right;\">0.0311237</td><td style=\"text-align: right;\">0.0104066 </td><td style=\"text-align: right;\">0.021421 </td><td style=\"text-align: right;\">             0.000968684</td><td style=\"text-align: right;\">             31684</td><td style=\"text-align: right;\">                 0.028392</td><td>DRF         </td></tr>\n",
              "<tr><td>GBM_4_AutoML_5_20241011_124634         </td><td style=\"text-align: right;\">0.00119487 </td><td style=\"text-align: right;\">0.0345668</td><td style=\"text-align: right;\">0.0109578 </td><td style=\"text-align: right;\">0.0237121</td><td style=\"text-align: right;\">             0.00119487 </td><td style=\"text-align: right;\">             84371</td><td style=\"text-align: right;\">                 0.10107 </td><td>GBM         </td></tr>\n",
              "<tr><td>XGBoost_2_AutoML_5_20241011_124634     </td><td style=\"text-align: right;\">0.00128541 </td><td style=\"text-align: right;\">0.0358526</td><td style=\"text-align: right;\">0.0117165 </td><td style=\"text-align: right;\">0.0245182</td><td style=\"text-align: right;\">             0.00128541 </td><td style=\"text-align: right;\">             58530</td><td style=\"text-align: right;\">                 0.011417</td><td>XGBoost     </td></tr>\n",
              "<tr><td>XRT_1_AutoML_5_20241011_124634         </td><td style=\"text-align: right;\">0.00138677 </td><td style=\"text-align: right;\">0.0372394</td><td style=\"text-align: right;\">0.0141582 </td><td style=\"text-align: right;\">0.0255374</td><td style=\"text-align: right;\">             0.00138677 </td><td style=\"text-align: right;\">              2977</td><td style=\"text-align: right;\">                 0.002314</td><td>DRF         </td></tr>\n",
              "<tr><td>GBM_1_AutoML_5_20241011_124634         </td><td style=\"text-align: right;\">0.00178767 </td><td style=\"text-align: right;\">0.0422808</td><td style=\"text-align: right;\">0.0151934 </td><td style=\"text-align: right;\">0.0289707</td><td style=\"text-align: right;\">             0.00178767 </td><td style=\"text-align: right;\">             93997</td><td style=\"text-align: right;\">                 0.104826</td><td>GBM         </td></tr>\n",
              "<tr><td>GBM_3_AutoML_5_20241011_124634         </td><td style=\"text-align: right;\">0.0021744  </td><td style=\"text-align: right;\">0.0466305</td><td style=\"text-align: right;\">0.0210733 </td><td style=\"text-align: right;\">0.0319442</td><td style=\"text-align: right;\">             0.0021744  </td><td style=\"text-align: right;\">             89496</td><td style=\"text-align: right;\">                 0.108512</td><td>GBM         </td></tr>\n",
              "<tr><td>GBM_2_AutoML_5_20241011_124634         </td><td style=\"text-align: right;\">0.0032937  </td><td style=\"text-align: right;\">0.0573907</td><td style=\"text-align: right;\">0.0300452 </td><td style=\"text-align: right;\">0.0391773</td><td style=\"text-align: right;\">             0.0032937  </td><td style=\"text-align: right;\">             90028</td><td style=\"text-align: right;\">                 0.10357 </td><td>GBM         </td></tr>\n",
              "<tr><td>XGBoost_3_AutoML_5_20241011_124634     </td><td style=\"text-align: right;\">0.0169626  </td><td style=\"text-align: right;\">0.13024  </td><td style=\"text-align: right;\">0.0992745 </td><td style=\"text-align: right;\">0.0880098</td><td style=\"text-align: right;\">             0.0169626  </td><td style=\"text-align: right;\">              5832</td><td style=\"text-align: right;\">                 0.002263</td><td>XGBoost     </td></tr>\n",
              "<tr><td>GBM_5_AutoML_5_20241011_124634         </td><td style=\"text-align: right;\">0.0221786  </td><td style=\"text-align: right;\">0.148925 </td><td style=\"text-align: right;\">0.119126  </td><td style=\"text-align: right;\">0.100893 </td><td style=\"text-align: right;\">             0.0221786  </td><td style=\"text-align: right;\">              4175</td><td style=\"text-align: right;\">                 0.009478</td><td>GBM         </td></tr>\n",
              "<tr><td>DeepLearning_1_AutoML_5_20241011_124634</td><td style=\"text-align: right;\">0.0269121  </td><td style=\"text-align: right;\">0.164049 </td><td style=\"text-align: right;\">0.12782   </td><td style=\"text-align: right;\">0.11096  </td><td style=\"text-align: right;\">             0.0269121  </td><td style=\"text-align: right;\">              2253</td><td style=\"text-align: right;\">                 0.002944</td><td>DeepLearning</td></tr>\n",
              "<tr><td>GLM_1_AutoML_5_20241011_124634         </td><td style=\"text-align: right;\">0.034021   </td><td style=\"text-align: right;\">0.184448 </td><td style=\"text-align: right;\">0.149615  </td><td style=\"text-align: right;\">0.124459 </td><td style=\"text-align: right;\">             0.034021   </td><td style=\"text-align: right;\">               811</td><td style=\"text-align: right;\">                 0.000644</td><td>GLM         </td></tr>\n",
              "</tbody>\n",
              "</table><pre style='font-size: smaller; margin-bottom: 1em;'>[12 rows x 9 columns]</pre>"
            ]
          },
          "metadata": {},
          "execution_count": 41
        }
      ]
    },
    {
      "cell_type": "markdown",
      "source": [
        "Evaluation Metrics of Leader Model"
      ],
      "metadata": {
        "id": "Mr3lMZ0n3Pwi"
      }
    },
    {
      "cell_type": "code",
      "source": [
        "mod=aml.leader\n",
        "\n",
        "print('\\033[1mTrain Performance:\\033[0m\\n',mod.model_performance(train),end='\\n\\n')\n",
        "print(\"\\033[1mTest Performance:\\033[0m\\n\",mod.model_performance(test))"
      ],
      "metadata": {
        "colab": {
          "base_uri": "https://localhost:8080/"
        },
        "id": "HaaEDJ15Nlq1",
        "outputId": "4513eaab-96f8-4ae8-c727-591ac7b93dbe"
      },
      "execution_count": 45,
      "outputs": [
        {
          "output_type": "stream",
          "name": "stdout",
          "text": [
            "\u001b[1mTrain Performance:\u001b[0m\n",
            " ModelMetricsRegression: xgboost\n",
            "** Reported on test data. **\n",
            "\n",
            "MSE: 0.0001284868849925897\n",
            "RMSE: 0.011335205555815462\n",
            "MAE: 0.0026045122874260827\n",
            "RMSLE: 0.007945876397051204\n",
            "Mean Residual Deviance: 0.0001284868849925897\n",
            "\n",
            "\u001b[1mTest Performance:\u001b[0m\n",
            " ModelMetricsRegression: xgboost\n",
            "** Reported on test data. **\n",
            "\n",
            "MSE: 0.0007827031915815165\n",
            "RMSE: 0.027976833122809245\n",
            "MAE: 0.005164739920417454\n",
            "RMSLE: 0.019237768573252694\n",
            "Mean Residual Deviance: 0.0007827031915815165\n"
          ]
        }
      ]
    },
    {
      "cell_type": "markdown",
      "source": [
        "Variable Importance for Leader Model"
      ],
      "metadata": {
        "id": "Os3BD6IZCo36"
      }
    },
    {
      "cell_type": "code",
      "source": [
        "mod.varimp_plot()"
      ],
      "metadata": {
        "colab": {
          "base_uri": "https://localhost:8080/",
          "height": 896
        },
        "id": "dJsyRfNiWJH3",
        "outputId": "0783444d-47ee-4159-80d3-6204c0081ed4"
      },
      "execution_count": 46,
      "outputs": [
        {
          "output_type": "display_data",
          "data": {
            "text/plain": [
              "<Figure size 1400x1000 with 1 Axes>"
            ],
            "image/png": "[encoded data removed]"
          },
          "metadata": {}
        },
        {
          "output_type": "execute_result",
          "data": {
            "text/plain": [
              "<h2o.plot._plot_result._MObject at 0x7f26b29b9150>"
            ]
          },
          "metadata": {},
          "execution_count": 46
        },
        {
          "output_type": "display_data",
          "data": {
            "text/plain": [
              "<Figure size 640x480 with 0 Axes>"
            ]
          },
          "metadata": {}
        }
      ]
    },
    {
      "cell_type": "markdown",
      "source": [
        "Prediction"
      ],
      "metadata": {
        "id": "weOUBDRx3WMi"
      }
    },
    {
      "cell_type": "code",
      "source": [
        "pred =mod.predict(test)\n",
        "pred = pred.cbind(test['valence'])\n",
        "pred.head()"
      ],
      "metadata": {
        "colab": {
          "base_uri": "https://localhost:8080/",
          "height": 406
        },
        "id": "BjN6p1pTmswt",
        "outputId": "e89fa243-6d72-4314-f34a-38f68830efaf"
      },
      "execution_count": 47,
      "outputs": [
        {
          "output_type": "stream",
          "name": "stdout",
          "text": [
            "xgboost prediction progress: |███████████████████████████████████████████████████| (done) 100%\n"
          ]
        },
        {
          "output_type": "execute_result",
          "data": {
            "text/plain": [
              "  predict    valence\n",
              "---------  ---------\n",
              " 0.448059      0.447\n",
              " 0.632037      0.632\n",
              " 0.501037      0.501\n",
              " 0.730946      0.732\n",
              " 0.613249      0.613\n",
              " 0.511279      0.512\n",
              " 0.536368      0.536\n",
              " 0.374429      0.374\n",
              " 0.458168      0.458\n",
              " 0.581181      0.584\n",
              "[10 rows x 2 columns]\n"
            ],
            "text/html": [
              "<table class='dataframe'>\n",
              "<thead>\n",
              "<tr><th style=\"text-align: right;\">  predict</th><th style=\"text-align: right;\">  valence</th></tr>\n",
              "</thead>\n",
              "<tbody>\n",
              "<tr><td style=\"text-align: right;\"> 0.448059</td><td style=\"text-align: right;\">    0.447</td></tr>\n",
              "<tr><td style=\"text-align: right;\"> 0.632037</td><td style=\"text-align: right;\">    0.632</td></tr>\n",
              "<tr><td style=\"text-align: right;\"> 0.501037</td><td style=\"text-align: right;\">    0.501</td></tr>\n",
              "<tr><td style=\"text-align: right;\"> 0.730946</td><td style=\"text-align: right;\">    0.732</td></tr>\n",
              "<tr><td style=\"text-align: right;\"> 0.613249</td><td style=\"text-align: right;\">    0.613</td></tr>\n",
              "<tr><td style=\"text-align: right;\"> 0.511279</td><td style=\"text-align: right;\">    0.512</td></tr>\n",
              "<tr><td style=\"text-align: right;\"> 0.536368</td><td style=\"text-align: right;\">    0.536</td></tr>\n",
              "<tr><td style=\"text-align: right;\"> 0.374429</td><td style=\"text-align: right;\">    0.374</td></tr>\n",
              "<tr><td style=\"text-align: right;\"> 0.458168</td><td style=\"text-align: right;\">    0.458</td></tr>\n",
              "<tr><td style=\"text-align: right;\"> 0.581181</td><td style=\"text-align: right;\">    0.584</td></tr>\n",
              "</tbody>\n",
              "</table><pre style='font-size: smaller; margin-bottom: 1em;'>[10 rows x 2 columns]</pre>"
            ]
          },
          "metadata": {},
          "execution_count": 47
        }
      ]
    },
    {
      "cell_type": "markdown",
      "source": [
        "### Select GBM algorithm"
      ],
      "metadata": {
        "id": "hVaT3Dgnmogl"
      }
    },
    {
      "cell_type": "code",
      "source": [
        "gbm = h2o.get_model([mid for mid in models_id if \"GBM\" in mid][0])\n",
        "gbm.params"
      ],
      "metadata": {
        "colab": {
          "base_uri": "https://localhost:8080/"
        },
        "id": "6dttV67BPMaF",
        "outputId": "df86ef96-e2ca-4c1d-a549-80476672dba6"
      },
      "execution_count": 48,
      "outputs": [
        {
          "output_type": "execute_result",
          "data": {
            "text/plain": [
              "{'model_id': {'default': None,\n",
              "  'actual': {'__meta': {'schema_version': 3,\n",
              "    'schema_name': 'ModelKeyV3',\n",
              "    'schema_type': 'Key<Model>'},\n",
              "   'name': 'GBM_4_AutoML_5_20241011_124634',\n",
              "   'type': 'Key<Model>',\n",
              "   'URL': '/3/Models/GBM_4_AutoML_5_20241011_124634'},\n",
              "  'input': None},\n",
              " 'training_frame': {'default': None,\n",
              "  'actual': {'__meta': {'schema_version': 3,\n",
              "    'schema_name': 'FrameKeyV3',\n",
              "    'schema_type': 'Key<Frame>'},\n",
              "   'name': 'AutoML_5_20241011_124634_training_py_17_sid_8864',\n",
              "   'type': 'Key<Frame>',\n",
              "   'URL': '/3/Frames/AutoML_5_20241011_124634_training_py_17_sid_8864'},\n",
              "  'input': {'__meta': {'schema_version': 3,\n",
              "    'schema_name': 'FrameKeyV3',\n",
              "    'schema_type': 'Key<Frame>'},\n",
              "   'name': 'AutoML_5_20241011_124634_training_py_17_sid_8864',\n",
              "   'type': 'Key<Frame>',\n",
              "   'URL': '/3/Frames/AutoML_5_20241011_124634_training_py_17_sid_8864'}},\n",
              " 'validation_frame': {'default': None, 'actual': None, 'input': None},\n",
              " 'nfolds': {'default': 0, 'actual': 5, 'input': 5},\n",
              " 'keep_cross_validation_models': {'default': True,\n",
              "  'actual': False,\n",
              "  'input': False},\n",
              " 'keep_cross_validation_predictions': {'default': False,\n",
              "  'actual': True,\n",
              "  'input': True},\n",
              " 'keep_cross_validation_fold_assignment': {'default': False,\n",
              "  'actual': False,\n",
              "  'input': False},\n",
              " 'score_each_iteration': {'default': False, 'actual': False, 'input': False},\n",
              " 'score_tree_interval': {'default': 0, 'actual': 5, 'input': 5},\n",
              " 'fold_assignment': {'default': 'AUTO', 'actual': 'Modulo', 'input': 'Modulo'},\n",
              " 'fold_column': {'default': None, 'actual': None, 'input': None},\n",
              " 'response_column': {'default': None,\n",
              "  'actual': {'__meta': {'schema_version': 3,\n",
              "    'schema_name': 'ColSpecifierV3',\n",
              "    'schema_type': 'VecSpecifier'},\n",
              "   'column_name': 'valence',\n",
              "   'is_member_of_frames': None},\n",
              "  'input': {'__meta': {'schema_version': 3,\n",
              "    'schema_name': 'ColSpecifierV3',\n",
              "    'schema_type': 'VecSpecifier'},\n",
              "   'column_name': 'valence',\n",
              "   'is_member_of_frames': None}},\n",
              " 'ignored_columns': {'default': None, 'actual': [], 'input': []},\n",
              " 'ignore_const_cols': {'default': True, 'actual': True, 'input': True},\n",
              " 'offset_column': {'default': None, 'actual': None, 'input': None},\n",
              " 'weights_column': {'default': None, 'actual': None, 'input': None},\n",
              " 'balance_classes': {'default': False, 'actual': False, 'input': False},\n",
              " 'class_sampling_factors': {'default': None, 'actual': None, 'input': None},\n",
              " 'max_after_balance_size': {'default': 5.0, 'actual': 5.0, 'input': 5.0},\n",
              " 'max_confusion_matrix_size': {'default': 20, 'actual': 20, 'input': 20},\n",
              " 'ntrees': {'default': 50, 'actual': 259, 'input': 10000},\n",
              " 'max_depth': {'default': 5, 'actual': 10, 'input': 10},\n",
              " 'min_rows': {'default': 10.0, 'actual': 10.0, 'input': 10.0},\n",
              " 'nbins': {'default': 20, 'actual': 20, 'input': 20},\n",
              " 'nbins_top_level': {'default': 1024, 'actual': 1024, 'input': 1024},\n",
              " 'nbins_cats': {'default': 1024, 'actual': 1024, 'input': 1024},\n",
              " 'r2_stopping': {'default': 1.7976931348623157e+308,\n",
              "  'actual': 1.7976931348623157e+308,\n",
              "  'input': 1.7976931348623157e+308},\n",
              " 'stopping_rounds': {'default': 0, 'actual': 0, 'input': 3},\n",
              " 'stopping_metric': {'default': 'AUTO', 'actual': 'MAE', 'input': 'MAE'},\n",
              " 'stopping_tolerance': {'default': 0.001, 'actual': 0.005, 'input': 0.005},\n",
              " 'max_runtime_secs': {'default': 0.0, 'actual': 375.0, 'input': 600.0},\n",
              " 'seed': {'default': -1, 'actual': 49, 'input': 49},\n",
              " 'build_tree_one_node': {'default': False, 'actual': False, 'input': False},\n",
              " 'learn_rate': {'default': 0.1, 'actual': 0.1, 'input': 0.1},\n",
              " 'learn_rate_annealing': {'default': 1.0, 'actual': 1.0, 'input': 1.0},\n",
              " 'distribution': {'default': 'AUTO',\n",
              "  'actual': 'gaussian',\n",
              "  'input': 'gaussian'},\n",
              " 'quantile_alpha': {'default': 0.5, 'actual': 0.5, 'input': 0.5},\n",
              " 'tweedie_power': {'default': 1.5, 'actual': 1.5, 'input': 1.5},\n",
              " 'huber_alpha': {'default': 0.9, 'actual': 0.9, 'input': 0.9},\n",
              " 'checkpoint': {'default': None, 'actual': None, 'input': None},\n",
              " 'sample_rate': {'default': 1.0, 'actual': 0.8, 'input': 0.8},\n",
              " 'sample_rate_per_class': {'default': None, 'actual': None, 'input': None},\n",
              " 'col_sample_rate': {'default': 1.0, 'actual': 0.8, 'input': 0.8},\n",
              " 'col_sample_rate_change_per_level': {'default': 1.0,\n",
              "  'actual': 1.0,\n",
              "  'input': 1.0},\n",
              " 'col_sample_rate_per_tree': {'default': 1.0, 'actual': 0.8, 'input': 0.8},\n",
              " 'min_split_improvement': {'default': 1e-05, 'actual': 1e-05, 'input': 1e-05},\n",
              " 'histogram_type': {'default': 'AUTO',\n",
              "  'actual': 'UniformAdaptive',\n",
              "  'input': 'AUTO'},\n",
              " 'max_abs_leafnode_pred': {'default': 1.7976931348623157e+308,\n",
              "  'actual': 1.7976931348623157e+308,\n",
              "  'input': 1.7976931348623157e+308},\n",
              " 'pred_noise_bandwidth': {'default': 0.0, 'actual': 0.0, 'input': 0.0},\n",
              " 'categorical_encoding': {'default': 'AUTO',\n",
              "  'actual': 'Enum',\n",
              "  'input': 'AUTO'},\n",
              " 'calibrate_model': {'default': False, 'actual': False, 'input': False},\n",
              " 'calibration_frame': {'default': None, 'actual': None, 'input': None},\n",
              " 'calibration_method': {'default': 'AUTO',\n",
              "  'actual': 'PlattScaling',\n",
              "  'input': 'AUTO'},\n",
              " 'custom_metric_func': {'default': None, 'actual': None, 'input': None},\n",
              " 'custom_distribution_func': {'default': None, 'actual': None, 'input': None},\n",
              " 'export_checkpoints_dir': {'default': None, 'actual': None, 'input': None},\n",
              " 'in_training_checkpoints_dir': {'default': None,\n",
              "  'actual': None,\n",
              "  'input': None},\n",
              " 'in_training_checkpoints_tree_interval': {'default': 1,\n",
              "  'actual': 1,\n",
              "  'input': 1},\n",
              " 'monotone_constraints': {'default': None, 'actual': None, 'input': None},\n",
              " 'check_constant_response': {'default': True, 'actual': True, 'input': True},\n",
              " 'gainslift_bins': {'default': -1, 'actual': -1, 'input': -1},\n",
              " 'auc_type': {'default': 'AUTO', 'actual': 'AUTO', 'input': 'AUTO'},\n",
              " 'interaction_constraints': {'default': None, 'actual': None, 'input': None},\n",
              " 'auto_rebalance': {'default': True, 'actual': True, 'input': True}}"
            ]
          },
          "metadata": {},
          "execution_count": 48
        }
      ]
    },
    {
      "cell_type": "markdown",
      "source": [
        "Evaluation Metrics of GBM"
      ],
      "metadata": {
        "id": "CVn4NzIh44yT"
      }
    },
    {
      "cell_type": "code",
      "source": [
        "print('\\033[1mTrain Performance:\\033[0m\\n',gbm.model_performance(train),end='\\n\\n')\n",
        "print(\"\\033[1mTest Performance:\\033[0m\\n\",gbm.model_performance(test))"
      ],
      "metadata": {
        "colab": {
          "base_uri": "https://localhost:8080/"
        },
        "id": "SHTH7jZIXfq3",
        "outputId": "d1bbd253-f153-47fd-c456-3e43e1a04f61"
      },
      "execution_count": 49,
      "outputs": [
        {
          "output_type": "stream",
          "name": "stdout",
          "text": [
            "\u001b[1mTrain Performance:\u001b[0m\n",
            " ModelMetricsRegression: gbm\n",
            "** Reported on test data. **\n",
            "\n",
            "MSE: 0.000522003389329759\n",
            "RMSE: 0.022847393490938065\n",
            "MAE: 0.007939335137426678\n",
            "RMSLE: 0.01582300486208972\n",
            "Mean Residual Deviance: 0.000522003389329759\n",
            "\n",
            "\u001b[1mTest Performance:\u001b[0m\n",
            " ModelMetricsRegression: gbm\n",
            "** Reported on test data. **\n",
            "\n",
            "MSE: 0.0010608448650032175\n",
            "RMSE: 0.032570613518986984\n",
            "MAE: 0.01010890523356743\n",
            "RMSLE: 0.022450279259126234\n",
            "Mean Residual Deviance: 0.0010608448650032175\n"
          ]
        }
      ]
    },
    {
      "cell_type": "markdown",
      "source": [
        "Variable Importance for GBM"
      ],
      "metadata": {
        "id": "rSGuU8Uu2O6C"
      }
    },
    {
      "cell_type": "code",
      "source": [
        "gbm.varimp_plot()"
      ],
      "metadata": {
        "colab": {
          "base_uri": "https://localhost:8080/",
          "height": 896
        },
        "id": "DVRavqb_2MA4",
        "outputId": "4ee8c31b-28b7-4188-e783-92b835c4375e"
      },
      "execution_count": 51,
      "outputs": [
        {
          "output_type": "display_data",
          "data": {
            "text/plain": [
              "<Figure size 1400x1000 with 1 Axes>"
            ],
            "image/png": "[encoded data removed]"
          },
          "metadata": {}
        },
        {
          "output_type": "execute_result",
          "data": {
            "text/plain": [
              "<h2o.plot._plot_result._MObject at 0x7f26b2854460>"
            ]
          },
          "metadata": {},
          "execution_count": 51
        },
        {
          "output_type": "display_data",
          "data": {
            "text/plain": [
              "<Figure size 640x480 with 0 Axes>"
            ]
          },
          "metadata": {}
        }
      ]
    },
    {
      "cell_type": "markdown",
      "source": [
        "Prediction"
      ],
      "metadata": {
        "id": "b2bAdq8-3vQD"
      }
    },
    {
      "cell_type": "code",
      "source": [
        "pred =gbm.predict(test)\n",
        "pred = pred.cbind(test['valence'])\n",
        "pred.head()"
      ],
      "metadata": {
        "colab": {
          "base_uri": "https://localhost:8080/",
          "height": 406
        },
        "id": "vZoWaiMI4D5S",
        "outputId": "c16c672c-2a4f-4762-a147-aa56e5b3ead7"
      },
      "execution_count": 52,
      "outputs": [
        {
          "output_type": "stream",
          "name": "stdout",
          "text": [
            "gbm prediction progress: |███████████████████████████████████████████████████████| (done) 100%\n"
          ]
        },
        {
          "output_type": "execute_result",
          "data": {
            "text/plain": [
              "  predict    valence\n",
              "---------  ---------\n",
              " 0.450405      0.447\n",
              " 0.632237      0.632\n",
              " 0.50082       0.501\n",
              " 0.728808      0.732\n",
              " 0.612936      0.613\n",
              " 0.511239      0.512\n",
              " 0.539132      0.536\n",
              " 0.374023      0.374\n",
              " 0.460426      0.458\n",
              " 0.558024      0.584\n",
              "[10 rows x 2 columns]\n"
            ],
            "text/html": [
              "<table class='dataframe'>\n",
              "<thead>\n",
              "<tr><th style=\"text-align: right;\">  predict</th><th style=\"text-align: right;\">  valence</th></tr>\n",
              "</thead>\n",
              "<tbody>\n",
              "<tr><td style=\"text-align: right;\"> 0.450405</td><td style=\"text-align: right;\">    0.447</td></tr>\n",
              "<tr><td style=\"text-align: right;\"> 0.632237</td><td style=\"text-align: right;\">    0.632</td></tr>\n",
              "<tr><td style=\"text-align: right;\"> 0.50082 </td><td style=\"text-align: right;\">    0.501</td></tr>\n",
              "<tr><td style=\"text-align: right;\"> 0.728808</td><td style=\"text-align: right;\">    0.732</td></tr>\n",
              "<tr><td style=\"text-align: right;\"> 0.612936</td><td style=\"text-align: right;\">    0.613</td></tr>\n",
              "<tr><td style=\"text-align: right;\"> 0.511239</td><td style=\"text-align: right;\">    0.512</td></tr>\n",
              "<tr><td style=\"text-align: right;\"> 0.539132</td><td style=\"text-align: right;\">    0.536</td></tr>\n",
              "<tr><td style=\"text-align: right;\"> 0.374023</td><td style=\"text-align: right;\">    0.374</td></tr>\n",
              "<tr><td style=\"text-align: right;\"> 0.460426</td><td style=\"text-align: right;\">    0.458</td></tr>\n",
              "<tr><td style=\"text-align: right;\"> 0.558024</td><td style=\"text-align: right;\">    0.584</td></tr>\n",
              "</tbody>\n",
              "</table><pre style='font-size: smaller; margin-bottom: 1em;'>[10 rows x 2 columns]</pre>"
            ]
          },
          "metadata": {},
          "execution_count": 52
        }
      ]
    },
    {
      "cell_type": "markdown",
      "source": [
        "### Download Leader Model"
      ],
      "metadata": {
        "id": "A2XlNyQCISR7"
      }
    },
    {
      "cell_type": "code",
      "source": [
        "aml.leader.download_mojo(path = \"./\")"
      ],
      "metadata": {
        "id": "FUZrYh8cIQBa"
      },
      "execution_count": null,
      "outputs": []
    },
    {
      "cell_type": "markdown",
      "source": [
        "### Shutdown Cluster"
      ],
      "metadata": {
        "id": "DvoWCOwZFVsy"
      }
    },
    {
      "cell_type": "code",
      "source": [
        "h2o.cluster().shutdown()"
      ],
      "metadata": {
        "id": "q9rxzGbuFUW6"
      },
      "execution_count": null,
      "outputs": []
    }
  ]
}